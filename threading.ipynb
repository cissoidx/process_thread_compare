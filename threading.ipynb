{
 "cells": [
  {
   "cell_type": "markdown",
   "metadata": {},
   "source": [
    "threading with/without lock  \n",
    "假的多线程"
   ]
  },
  {
   "cell_type": "code",
   "execution_count": 1,
   "metadata": {},
   "outputs": [],
   "source": [
    "# name 是自己生成的\n",
    "# threading.Thread??"
   ]
  },
  {
   "cell_type": "code",
   "execution_count": 2,
   "metadata": {},
   "outputs": [
    {
     "name": "stdout",
     "output_type": "stream",
     "text": [
      "time consumed:  5.710067510604858\n"
     ]
    }
   ],
   "source": [
    "import threading\n",
    "import time\n",
    "\n",
    "class MyThread(threading.Thread):\n",
    "    def __init__(self):\n",
    "        threading.Thread.__init__(self)\n",
    "    def run(self):\n",
    "        global n, lock\n",
    "        if lock.acquire():\n",
    "            time.sleep(0.3)\n",
    "            # print (n , self.name)\n",
    "            n += 1\n",
    "            lock.release()\n",
    "\n",
    "start = time.time()\n",
    "n = 1\n",
    "ThreadList = []\n",
    "lock = threading.Lock()\n",
    "for i in range(1, 20):\n",
    "    t = MyThread()\n",
    "    ThreadList.append(t)\n",
    "for t in ThreadList:\n",
    "    t.start()\n",
    "for t in ThreadList:\n",
    "    t.join()\n",
    "print('time consumed: ', time.time()-start)"
   ]
  },
  {
   "cell_type": "code",
   "execution_count": 3,
   "metadata": {},
   "outputs": [
    {
     "name": "stdout",
     "output_type": "stream",
     "text": [
      "time consumed:  0.310344934463501\n"
     ]
    }
   ],
   "source": [
    "import threading\n",
    "import time\n",
    "\n",
    "class MyThread(threading.Thread):\n",
    "    def __init__(self):\n",
    "        threading.Thread.__init__(self)\n",
    "    def run(self):\n",
    "        global n\n",
    "        time.sleep(0.3)\n",
    "        # print (n , self.name)\n",
    "        n += 1\n",
    "\n",
    "start = time.time()\n",
    "n = 1\n",
    "ThreadList = []\n",
    "for i in range(1, 20):\n",
    "    t = MyThread()\n",
    "    ThreadList.append(t)\n",
    "for t in ThreadList:\n",
    "    t.start()\n",
    "for t in ThreadList:\n",
    "    t.join()\n",
    "print('time consumed: ', time.time()-start)"
   ]
  },
  {
   "cell_type": "code",
   "execution_count": null,
   "metadata": {},
   "outputs": [],
   "source": []
  }
 ],
 "metadata": {
  "kernelspec": {
   "display_name": "Python [conda env:pyt]",
   "language": "python",
   "name": "conda-env-pyt-py"
  },
  "language_info": {
   "codemirror_mode": {
    "name": "ipython",
    "version": 3
   },
   "file_extension": ".py",
   "mimetype": "text/x-python",
   "name": "python",
   "nbconvert_exporter": "python",
   "pygments_lexer": "ipython3",
   "version": "3.5.6"
  }
 },
 "nbformat": 4,
 "nbformat_minor": 2
}
