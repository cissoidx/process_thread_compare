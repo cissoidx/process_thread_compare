{
 "cells": [
  {
   "cell_type": "markdown",
   "metadata": {},
   "source": [
    "threading with/without lock  \n",
    "假的多线程"
   ]
  },
  {
   "cell_type": "code",
   "execution_count": 1,
   "metadata": {},
   "outputs": [],
   "source": [
    "# name 是自己生成的\n",
    "# threading.Thread??"
   ]
  },
  {
   "cell_type": "code",
   "execution_count": 2,
   "metadata": {},
   "outputs": [],
   "source": [
    "import threading\n",
    "import time\n",
    "from waster import waste_time\n",
    "\n",
    "lock = threading.Lock()"
   ]
  },
  {
   "cell_type": "code",
   "execution_count": 3,
   "metadata": {},
   "outputs": [],
   "source": [
    "# with lock\n",
    "class MyThreadLock(threading.Thread):\n",
    "\n",
    "    def run(self):\n",
    "        global lock\n",
    "        if lock.acquire():\n",
    "            waste_time()\n",
    "            lock.release()\n",
    "\n",
    "\n",
    "# without lock\n",
    "class MyThreadNoLock(threading.Thread):\n",
    "\n",
    "    def run(self):\n",
    "        waste_time()"
   ]
  },
  {
   "cell_type": "code",
   "execution_count": 4,
   "metadata": {},
   "outputs": [],
   "source": [
    "def run_test(mythread):\n",
    "    start = time.time()\n",
    "    ThreadList = []\n",
    "    lock = threading.Lock()\n",
    "    for i in range(1, 3):\n",
    "        t = mythread()\n",
    "        ThreadList.append(t)\n",
    "    for t in ThreadList:\n",
    "        t.start()\n",
    "    for t in ThreadList:\n",
    "        t.join()\n",
    "    print('time consumed: ', time.time()-start)\n",
    "    return"
   ]
  },
  {
   "cell_type": "code",
   "execution_count": 5,
   "metadata": {},
   "outputs": [
    {
     "name": "stdout",
     "output_type": "stream",
     "text": [
      "time consumed:  28.226075172424316\n"
     ]
    }
   ],
   "source": [
    "run_test(MyThreadLock)"
   ]
  },
  {
   "cell_type": "code",
   "execution_count": 6,
   "metadata": {},
   "outputs": [
    {
     "name": "stdout",
     "output_type": "stream",
     "text": [
      "time consumed:  18.81343150138855\n"
     ]
    }
   ],
   "source": [
    "run_test(MyThreadNoLock)"
   ]
  },
  {
   "cell_type": "code",
   "execution_count": null,
   "metadata": {},
   "outputs": [],
   "source": []
  }
 ],
 "metadata": {
  "kernelspec": {
   "display_name": "Python [conda env:pyt]",
   "language": "python",
   "name": "conda-env-pyt-py"
  },
  "language_info": {
   "codemirror_mode": {
    "name": "ipython",
    "version": 3
   },
   "file_extension": ".py",
   "mimetype": "text/x-python",
   "name": "python",
   "nbconvert_exporter": "python",
   "pygments_lexer": "ipython3",
   "version": "3.5.6"
  }
 },
 "nbformat": 4,
 "nbformat_minor": 2
}
