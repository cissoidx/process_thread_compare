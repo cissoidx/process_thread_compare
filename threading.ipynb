{
 "cells": [
  {
   "cell_type": "markdown",
   "metadata": {},
   "source": [
    "threading with/without lock  \n",
    "假的多线程\n",
    "如果自己加了锁，那么python会放心的在一个CPU上跑满。\n",
    "如果自己没有加锁，那么python的GIL会自己切换线程，不断的在几个线程之间不停的切，保证只有一个线程。这样会导致CPU跑不满，最终导致速度反而变慢。"
   ]
  },
  {
   "cell_type": "code",
   "execution_count": 1,
   "metadata": {},
   "outputs": [],
   "source": [
    "# name 是自己生成的\n",
    "# threading.Thread??"
   ]
  },
  {
   "cell_type": "code",
   "execution_count": 2,
   "metadata": {},
   "outputs": [],
   "source": [
    "import threading\n",
    "import time\n",
    "from waster import waste_time\n",
    "\n",
    "lock = threading.Lock()"
   ]
  },
  {
   "cell_type": "code",
   "execution_count": 3,
   "metadata": {},
   "outputs": [],
   "source": [
    "# with lock\n",
    "class MyThreadLock(threading.Thread):\n",
    "\n",
    "    def run(self):\n",
    "        global lock\n",
    "        if lock.acquire():\n",
    "            waste_time(self.ident)\n",
    "            lock.release()\n",
    "\n",
    "\n",
    "# without lock\n",
    "class MyThreadNoLock(threading.Thread):\n",
    "\n",
    "    def run(self):\n",
    "        waste_time(self.ident)"
   ]
  },
  {
   "cell_type": "code",
   "execution_count": 4,
   "metadata": {},
   "outputs": [],
   "source": [
    "def run_test(mythread):\n",
    "    start = time.time()\n",
    "    ThreadList = []\n",
    "    lock = threading.Lock()\n",
    "    for i in range(1, 3):\n",
    "        t = mythread()\n",
    "        ThreadList.append(t)\n",
    "    for t in ThreadList:\n",
    "        t.start()\n",
    "    for t in ThreadList:\n",
    "        t.join()\n",
    "    print('time consumed: ', time.time()-start)\n",
    "    return"
   ]
  },
  {
   "cell_type": "markdown",
   "metadata": {},
   "source": [
    "有锁，一个跑完再跑另外一个"
   ]
  },
  {
   "cell_type": "code",
   "execution_count": 5,
   "metadata": {},
   "outputs": [
    {
     "name": "stdout",
     "output_type": "stream",
     "text": [
      "139845487580928\n",
      "139845487580928\n",
      "139845487580928\n",
      "139845487580928\n",
      "139845487580928\n",
      "139845487580928\n",
      "139845292734208\n",
      "139845292734208\n",
      "139845292734208\n",
      "139845292734208\n",
      "139845292734208\n",
      "139845292734208\n",
      "time consumed:  20.558205127716064\n"
     ]
    }
   ],
   "source": [
    "run_test(MyThreadLock)"
   ]
  },
  {
   "cell_type": "code",
   "execution_count": 6,
   "metadata": {},
   "outputs": [],
   "source": [
    "time.sleep(3)"
   ]
  },
  {
   "cell_type": "markdown",
   "metadata": {},
   "source": [
    "没锁，在这两个线程之间不断切换，结果反而更慢了。"
   ]
  },
  {
   "cell_type": "code",
   "execution_count": 7,
   "metadata": {},
   "outputs": [
    {
     "name": "stdout",
     "output_type": "stream",
     "text": [
      "139845292734208\n",
      "139845487580928\n",
      "139845292734208139845487580928\n",
      "\n",
      "139845487580928\n",
      "139845292734208\n",
      "139845292734208\n",
      "139845487580928\n",
      "139845292734208\n",
      "139845487580928\n",
      "139845292734208\n",
      "139845487580928\n",
      "time consumed:  25.322957754135132\n"
     ]
    }
   ],
   "source": [
    "run_test(MyThreadNoLock)"
   ]
  },
  {
   "cell_type": "code",
   "execution_count": null,
   "metadata": {},
   "outputs": [],
   "source": []
  }
 ],
 "metadata": {
  "kernelspec": {
   "display_name": "Python [conda env:pyt]",
   "language": "python",
   "name": "conda-env-pyt-py"
  },
  "language_info": {
   "codemirror_mode": {
    "name": "ipython",
    "version": 3
   },
   "file_extension": ".py",
   "mimetype": "text/x-python",
   "name": "python",
   "nbconvert_exporter": "python",
   "pygments_lexer": "ipython3",
   "version": "3.5.6"
  }
 },
 "nbformat": 4,
 "nbformat_minor": 2
}
