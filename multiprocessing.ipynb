{
 "cells": [
  {
   "cell_type": "markdown",
   "metadata": {},
   "source": [
    "multiprocessing with/without lock  \n",
    "这个是真实的多进程"
   ]
  },
  {
   "cell_type": "code",
   "execution_count": 1,
   "metadata": {},
   "outputs": [
    {
     "name": "stdout",
     "output_type": "stream",
     "text": [
      "time consumed:  5.718569993972778\n"
     ]
    }
   ],
   "source": [
    "import multiprocessing\n",
    "import time\n",
    "\n",
    "class imreg_thread(multiprocessing.Process):\n",
    "    \n",
    "    def run(self):\n",
    "        # print('entering a new process...')\n",
    "        global n , lock\n",
    "        if lock.acquire():\n",
    "            time.sleep(0.3)\n",
    "            # print('inside lock, process number:', self.name)\n",
    "            lock.release()\n",
    "\n",
    "start = time.time()\n",
    "n = 1\n",
    "ProcessList = []\n",
    "lock = multiprocessing.Lock()\n",
    "for i in range(1, 20):\n",
    "    t = imreg_thread(name=i)\n",
    "    ProcessList.append(t)\n",
    "for t in ProcessList:\n",
    "    t.start()\n",
    "for t in ProcessList:\n",
    "    t.join()\n",
    "print('time consumed: ', time.time()-start)"
   ]
  },
  {
   "cell_type": "code",
   "execution_count": 2,
   "metadata": {},
   "outputs": [
    {
     "name": "stdout",
     "output_type": "stream",
     "text": [
      "time consumed:  0.37084269523620605\n"
     ]
    }
   ],
   "source": [
    "import multiprocessing\n",
    "import time\n",
    "\n",
    "class imreg_thread(multiprocessing.Process):\n",
    "    \n",
    "    def run(self):\n",
    "        # print('entering a new process...')\n",
    "        global n\n",
    "        time.sleep(0.3)\n",
    "        # print('inside lock, process number:', self.name)\n",
    "\n",
    "start = time.time()\n",
    "n = 1\n",
    "ProcessList = []\n",
    "for i in range(1, 20):\n",
    "    t = imreg_thread(name=i)\n",
    "    ProcessList.append(t)\n",
    "for t in ProcessList:\n",
    "    t.start()\n",
    "for t in ProcessList:\n",
    "    t.join()\n",
    "print('time consumed: ',time.time()-start)"
   ]
  },
  {
   "cell_type": "code",
   "execution_count": null,
   "metadata": {},
   "outputs": [],
   "source": []
  }
 ],
 "metadata": {
  "kernelspec": {
   "display_name": "Python [conda env:pyt]",
   "language": "python",
   "name": "conda-env-pyt-py"
  },
  "language_info": {
   "codemirror_mode": {
    "name": "ipython",
    "version": 3
   },
   "file_extension": ".py",
   "mimetype": "text/x-python",
   "name": "python",
   "nbconvert_exporter": "python",
   "pygments_lexer": "ipython3",
   "version": "3.5.6"
  }
 },
 "nbformat": 4,
 "nbformat_minor": 2
}
