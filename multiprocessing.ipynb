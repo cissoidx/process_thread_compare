{
 "cells": [
  {
   "cell_type": "markdown",
   "metadata": {},
   "source": [
    "multiprocessing with/without lock  \n",
    "这个是真实的多进程"
   ]
  },
  {
   "cell_type": "code",
   "execution_count": 1,
   "metadata": {},
   "outputs": [],
   "source": [
    "import multiprocessing\n",
    "import time\n",
    "from waster import waste_time\n",
    "\n",
    "lock = multiprocessing.Lock()"
   ]
  },
  {
   "cell_type": "code",
   "execution_count": 2,
   "metadata": {},
   "outputs": [],
   "source": [
    "# with lock\n",
    "class MyProcessLock(multiprocessing.Process):\n",
    "\n",
    "    def run(self):\n",
    "        if lock.acquire():\n",
    "            waste_time()\n",
    "            lock.release()\n",
    "\n",
    "\n",
    "# without lock\n",
    "class MyProcessNoLock(multiprocessing.Process):\n",
    "    \n",
    "    def run(self):\n",
    "        waste_time()"
   ]
  },
  {
   "cell_type": "code",
   "execution_count": 3,
   "metadata": {},
   "outputs": [],
   "source": [
    "def run_test(myprocess):\n",
    "    start = time.time()\n",
    "    ThreadList = []\n",
    "    for i in range(1, 3):\n",
    "        p = myprocess()\n",
    "        ThreadList.append(p)\n",
    "    for p in ThreadList:\n",
    "        p.start()\n",
    "    for p in ThreadList:\n",
    "        p.join()\n",
    "    print('time consumed: ', time.time()-start)\n",
    "    return"
   ]
  },
  {
   "cell_type": "code",
   "execution_count": 4,
   "metadata": {},
   "outputs": [
    {
     "name": "stdout",
     "output_type": "stream",
     "text": [
      "time consumed:  26.411728143692017\n"
     ]
    }
   ],
   "source": [
    "run_test(MyProcessLock)"
   ]
  },
  {
   "cell_type": "code",
   "execution_count": 5,
   "metadata": {},
   "outputs": [
    {
     "name": "stdout",
     "output_type": "stream",
     "text": [
      "time consumed:  16.18335461616516\n"
     ]
    }
   ],
   "source": [
    "run_test(MyProcessNoLock)"
   ]
  },
  {
   "cell_type": "code",
   "execution_count": null,
   "metadata": {},
   "outputs": [],
   "source": []
  }
 ],
 "metadata": {
  "kernelspec": {
   "display_name": "Python [conda env:pyt]",
   "language": "python",
   "name": "conda-env-pyt-py"
  },
  "language_info": {
   "codemirror_mode": {
    "name": "ipython",
    "version": 3
   },
   "file_extension": ".py",
   "mimetype": "text/x-python",
   "name": "python",
   "nbconvert_exporter": "python",
   "pygments_lexer": "ipython3",
   "version": "3.5.6"
  }
 },
 "nbformat": 4,
 "nbformat_minor": 2
}
