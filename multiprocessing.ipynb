{
 "cells": [
  {
   "cell_type": "markdown",
   "metadata": {},
   "source": [
    "multiprocessing with/without lock  \n",
    "这个是真实的多进程"
   ]
  },
  {
   "cell_type": "code",
   "execution_count": 1,
   "metadata": {},
   "outputs": [],
   "source": [
    "import multiprocessing\n",
    "import time\n",
    "from waster import waste_time\n",
    "\n",
    "lock = multiprocessing.Lock()"
   ]
  },
  {
   "cell_type": "code",
   "execution_count": 2,
   "metadata": {},
   "outputs": [],
   "source": [
    "# with lock\n",
    "class MyProcessLock(multiprocessing.Process):\n",
    "\n",
    "    def run(self):\n",
    "        if lock.acquire():\n",
    "            waste_time(self.ident)\n",
    "            lock.release()\n",
    "\n",
    "\n",
    "# without lock\n",
    "class MyProcessNoLock(multiprocessing.Process):\n",
    "    \n",
    "    def run(self):\n",
    "        waste_time(self.ident)"
   ]
  },
  {
   "cell_type": "code",
   "execution_count": 3,
   "metadata": {},
   "outputs": [],
   "source": [
    "def run_test(myprocess):\n",
    "    start = time.time()\n",
    "    ProcessList = []\n",
    "    for i in range(1, 3):\n",
    "        p = myprocess()\n",
    "        ProcessList.append(p)\n",
    "    for p in ProcessList:\n",
    "        p.start()\n",
    "    for p in ProcessList:\n",
    "        p.join()\n",
    "    print('time consumed: ', time.time()-start)\n",
    "    return"
   ]
  },
  {
   "cell_type": "markdown",
   "metadata": {},
   "source": [
    "有锁，一个CPU跑完一个进程，再跑另外一个。"
   ]
  },
  {
   "cell_type": "code",
   "execution_count": 4,
   "metadata": {},
   "outputs": [
    {
     "name": "stdout",
     "output_type": "stream",
     "text": [
      "29274\n",
      "29274\n",
      "29274\n",
      "29274\n",
      "29274\n",
      "29274\n",
      "29275\n",
      "29275\n",
      "29275\n",
      "29275\n",
      "29275\n",
      "29275\n",
      "time consumed:  20.43788766860962\n"
     ]
    }
   ],
   "source": [
    "run_test(MyProcessLock)"
   ]
  },
  {
   "cell_type": "code",
   "execution_count": 5,
   "metadata": {},
   "outputs": [],
   "source": [
    "time.sleep(3)"
   ]
  },
  {
   "cell_type": "markdown",
   "metadata": {},
   "source": [
    "没锁，两个CPU同时跑，分别打印自己的ID。速度快一倍。"
   ]
  },
  {
   "cell_type": "code",
   "execution_count": 6,
   "metadata": {},
   "outputs": [
    {
     "name": "stdout",
     "output_type": "stream",
     "text": [
      "29305\n",
      "29308\n",
      "29308\n",
      "29305\n",
      "29305\n",
      "29308\n",
      "29305\n",
      "29308\n",
      "29305\n",
      "29308\n",
      "29305\n",
      "29308\n",
      "time consumed:  10.425991535186768\n"
     ]
    }
   ],
   "source": [
    "run_test(MyProcessNoLock)"
   ]
  },
  {
   "cell_type": "code",
   "execution_count": null,
   "metadata": {},
   "outputs": [],
   "source": []
  }
 ],
 "metadata": {
  "kernelspec": {
   "display_name": "Python [conda env:pyt]",
   "language": "python",
   "name": "conda-env-pyt-py"
  },
  "language_info": {
   "codemirror_mode": {
    "name": "ipython",
    "version": 3
   },
   "file_extension": ".py",
   "mimetype": "text/x-python",
   "name": "python",
   "nbconvert_exporter": "python",
   "pygments_lexer": "ipython3",
   "version": "3.5.6"
  }
 },
 "nbformat": 4,
 "nbformat_minor": 2
}
